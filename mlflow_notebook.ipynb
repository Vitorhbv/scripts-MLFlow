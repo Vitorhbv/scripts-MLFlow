{
 "cells": [
  {
   "cell_type": "code",
   "execution_count": 2,
   "metadata": {},
   "outputs": [
    {
     "name": "stderr",
     "output_type": "stream",
     "text": [
      "2025/02/16 21:35:48 INFO mlflow.tracking.fluent: Experiment with name 'mlflow-trace-ui-demo-2' does not exist. Creating a new experiment.\n"
     ]
    },
    {
     "data": {
      "text/plain": [
       "3"
      ]
     },
     "execution_count": 2,
     "metadata": {},
     "output_type": "execute_result"
    },
    {
     "data": {
      "text/html": [
       "\n",
       "<div>\n",
       "  <style scoped>\n",
       "  button {\n",
       "    border: none;\n",
       "    border-radius: 4px;\n",
       "    background-color: rgb(34, 114, 180);\n",
       "    font-family: -apple-system, \"system-ui\", \"Segoe UI\", Roboto, \"Helvetica Neue\", Arial;\n",
       "    font-size: 13px;\n",
       "    color: white;\n",
       "    margin-top: 8px;\n",
       "    margin-bottom: 8px;\n",
       "    padding: 8px 16px;\n",
       "    cursor: pointer;\n",
       "  }\n",
       "  button:hover {\n",
       "    background-color: rgb(66, 153, 224);\n",
       "  }\n",
       "  </style>\n",
       "  <button\n",
       "    onclick=\"\n",
       "        const display = this.nextElementSibling.style.display;\n",
       "        const isCollapsed = display === 'none';\n",
       "        this.nextElementSibling.style.display = isCollapsed ? null : 'none';\n",
       "\n",
       "        const verb = isCollapsed ? 'Collapse' : 'Expand';\n",
       "        this.innerText = `${verb} MLflow Trace`;\n",
       "    \"\n",
       "  >Collapse MLflow Trace</button>\n",
       "  <iframe\n",
       "    id=\"trace-renderer\"\n",
       "    style=\"width: 100%; height: 500px; border: none; resize: vertical;\"\n",
       "    src=\"http://localhost:5000/static-files/lib/notebook-trace-renderer/index.html?trace_id=e321124eb4dc436eb5d439b329803999&amp;experiment_id=6&amp;version=2.20.1\"\n",
       "  />\n",
       "</div>\n"
      ],
      "text/plain": [
       "Trace(request_id=e321124eb4dc436eb5d439b329803999)"
      ]
     },
     "metadata": {},
     "output_type": "display_data"
    }
   ],
   "source": [
    "import mlflow\n",
    "\n",
    "# create a new experiment to avoid cluttering the default experiment\n",
    "experiment = mlflow.set_experiment(\"mlflow-trace-ui-demo-2\")\n",
    "\n",
    "# the trace UI should now show up whenever traces are generated,\n",
    "# for example:\n",
    "@mlflow.trace\n",
    "def add(a, b):\n",
    "  return a + b\n",
    "\n",
    "# running the traced function triggers the UI display\n",
    "add(1, 2)"
   ]
  },
  {
   "cell_type": "code",
   "execution_count": null,
   "metadata": {},
   "outputs": [
    {
     "data": {
      "text/plain": [
       "['The `useEffect()` hook is a React function that runs once after rendering a component, and it allows you to execute side effects such as API calls or setting up event listeners. By default, `useEffect()` will only run once when the component mounts, but you can also specify a second argument to specify when the effect should run again, allowing for more complex state management and optimization.',\n",
       " \"The `static` keyword in a function means that it can be called without creating an instance of the class, and it has access to the class's variables and methods. This allows for more flexibility and convenience when writing functions, as they can be used as standalone units within the program without needing to create an object or instance.\",\n",
       " \"The `finally` block in Python is a special block of code that runs regardless of whether an exception was thrown or not, providing a clean way to release resources such as files, connections, or locks after a certain operation. By using a `try`-`except`-`finally` block, you can ensure that your program doesn't leave any resources open in case of an error, which helps prevent unexpected crashes and makes your code more reliable.\",\n",
       " \"Multiprocessing involves creating multiple processes that run independently, each with its own memory space and resources, whereas multithreading involves sharing a single process's memory space among multiple threads. This can lead to improved responsiveness and efficiency in certain applications, but may also increase complexity and require more sophisticated synchronization mechanisms.\"]"
      ]
     },
     "execution_count": 3,
     "metadata": {},
     "output_type": "execute_result"
    },
    {
     "data": {
      "text/html": [
       "\n",
       "<div>\n",
       "  <style scoped>\n",
       "  button {\n",
       "    border: none;\n",
       "    border-radius: 4px;\n",
       "    background-color: rgb(34, 114, 180);\n",
       "    font-family: -apple-system, \"system-ui\", \"Segoe UI\", Roboto, \"Helvetica Neue\", Arial;\n",
       "    font-size: 13px;\n",
       "    color: white;\n",
       "    margin-top: 8px;\n",
       "    margin-bottom: 8px;\n",
       "    padding: 8px 16px;\n",
       "    cursor: pointer;\n",
       "  }\n",
       "  button:hover {\n",
       "    background-color: rgb(66, 153, 224);\n",
       "  }\n",
       "  </style>\n",
       "  <button\n",
       "    onclick=\"\n",
       "        const display = this.nextElementSibling.style.display;\n",
       "        const isCollapsed = display === 'none';\n",
       "        this.nextElementSibling.style.display = isCollapsed ? null : 'none';\n",
       "\n",
       "        const verb = isCollapsed ? 'Collapse' : 'Expand';\n",
       "        this.innerText = `${verb} MLflow Trace`;\n",
       "    \"\n",
       "  >Collapse MLflow Trace</button>\n",
       "  <iframe\n",
       "    id=\"trace-renderer\"\n",
       "    style=\"width: 100%; height: 500px; border: none; resize: vertical;\"\n",
       "    src=\"http://localhost:5000/static-files/lib/notebook-trace-renderer/index.html?trace_id=427d862b950a4c62af4cc674ceb17260&amp;experiment_id=5&amp;version=2.20.1\"\n",
       "  />\n",
       "</div>\n"
      ],
      "text/plain": [
       "Trace(request_id=427d862b950a4c62af4cc674ceb17260)"
      ]
     },
     "metadata": {},
     "output_type": "display_data"
    }
   ],
   "source": [
    "import os\n",
    "import openai\n",
    "import pandas as pd\n",
    "import mlflow\n",
    "\n",
    "#pip install textstat for text statistics\n",
    "#mlflow.set_registry_uri(\"s3://test-bucket/\")\n",
    "base_url = \"http://localhost:4000/v1\"\n",
    "api_key = os.getenv(\"OPENAI_API_KEY\")\n",
    "mlflow.set_experiment(\"mlflow_eval\")\n",
    "eval_df = pd.DataFrame(\n",
    "    {\n",
    "        \"inputs\": [\n",
    "            \"Qual time é mais forte, o Atlético Mineiro ou o Paysandu?\",\n",
    "            \"Cite 3 livros de ficção científica.\",\n",
    "        ],\n",
    "        \"ground_truth\": [\n",
    "            \"o Paysandu é mais forte\",\n",
    "            \"Harry Potter, The Hitchhiker's Guide to the Galaxy, The Martian\"\n",
    "        ]\n",
    "    }\n",
    ")\n",
    "model = \"lamma32\"\n",
    "client = openai.Client(api_key=api_key, base_url=base_url)\n",
    "\n",
    "\n",
    "@mlflow.trace \n",
    "def openai_qa(inputs):\n",
    "    answers = []\n",
    "    system_prompt=\"Answer the following question in two sentences\"\n",
    "    for index, row in inputs.iterrows():\n",
    "        messages = [\n",
    "            {\"role\": \"system\", \"content\": system_prompt},\n",
    "            {\"role\": \"user\", \"content\": row[\"inputs\"]},\n",
    "        ]\n",
    "        response = client.chat.completions.create(\n",
    "            model=model,\n",
    "            messages=messages,\n",
    "            temperature=0,\n",
    "        )\n",
    "        answers.append(response.choices[0].message.content)\n",
    "    return answers\n",
    "openai_qa(eval_df)"
   ]
  }
 ],
 "metadata": {
  "kernelspec": {
   "display_name": ".venv",
   "language": "python",
   "name": "python3"
  },
  "language_info": {
   "codemirror_mode": {
    "name": "ipython",
    "version": 3
   },
   "file_extension": ".py",
   "mimetype": "text/x-python",
   "name": "python",
   "nbconvert_exporter": "python",
   "pygments_lexer": "ipython3",
   "version": "3.13.2"
  }
 },
 "nbformat": 4,
 "nbformat_minor": 2
}
